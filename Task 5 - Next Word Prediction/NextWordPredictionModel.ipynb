{
  "cells": [
    {
      "cell_type": "markdown",
      "metadata": {
        "id": "Yn19snqmr06A"
      },
      "source": [
        "# LGMVIP DATA SCIENCE\n",
        "\n",
        "# TASK 5 - Next Word Prediction \n",
        "\n",
        "## 1. Installing the libraries\n",
        "\n",
        "!pip install numpy\n",
        "!pip install tensorflow\n",
        "!pip install keras\n",
        "!pip install nltk"
      ]
    },
    {
      "cell_type": "markdown",
      "metadata": {
        "id": "SJCw_kname--"
      },
      "source": [
        "## 2. Importing the libraries"
      ]
    },
    {
      "cell_type": "code",
      "execution_count": 1,
      "metadata": {
        "id": "MKkZFM_3rDzy"
      },
      "outputs": [],
      "source": [
        "import numpy as np\n",
        "from nltk.tokenize import RegexpTokenizer\n",
        "from keras.models import Sequential, load_model\n",
        "from keras.layers import LSTM\n",
        "from keras.layers.core import Dense, Activation\n",
        "from tensorflow.keras.optimizers import RMSprop\n",
        "import matplotlib.pyplot as plt\n",
        "import pickle\n",
        "import heapq\n"
      ]
    },
    {
      "cell_type": "markdown",
      "metadata": {
        "id": "uTUHjZz5moIV"
      },
      "source": [
        "## 3. Loading the dataset"
      ]
    },
    {
      "cell_type": "code",
      "execution_count": 3,
      "metadata": {
        "colab": {
          "base_uri": "https://localhost:8080/"
        },
        "id": "sOhORvDOrvFa",
        "outputId": "55a1f5c4-4ca3-4e18-fd70-f772b5207cf5"
      },
      "outputs": [
        {
          "name": "stdout",
          "output_type": "stream",
          "text": [
            "corpus length: 581888\n"
          ]
        }
      ],
      "source": [
        "path = '1661-0.txt'\n",
        "text = open(path,'r',encoding='utf-8').read().lower()\n",
        "print('corpus length:', len(text))\n"
      ]
    },
    {
      "cell_type": "markdown",
      "metadata": {
        "id": "tPgfJ35ImwDE"
      },
      "source": [
        "## 4. Splitting the entire dataset into each word in order without the presence of special characters"
      ]
    },
    {
      "cell_type": "code",
      "execution_count": 4,
      "metadata": {
        "id": "3JnfvvzUrw3I"
      },
      "outputs": [],
      "source": [
        "tokenizer = RegexpTokenizer(r'\\w+')\n",
        "words = tokenizer.tokenize(text)"
      ]
    },
    {
      "cell_type": "markdown",
      "metadata": {
        "id": "D0u57aixnAE8"
      },
      "source": [
        "## 5. Dictionary(<key: value>) with each word form the unique_words list as key and its corresponding position as value"
      ]
    },
    {
      "cell_type": "code",
      "execution_count": 5,
      "metadata": {
        "id": "TAshZZGYtqIw"
      },
      "outputs": [],
      "source": [
        "unique_words = np.unique(words)\n",
        "unique_word_index = dict((c, i) for i, c in enumerate(unique_words))"
      ]
    },
    {
      "cell_type": "markdown",
      "metadata": {
        "id": "Ix9wKbEVoB1l"
      },
      "source": [
        "## 6. Feature engineering"
      ]
    },
    {
      "cell_type": "code",
      "execution_count": 6,
      "metadata": {
        "colab": {
          "base_uri": "https://localhost:8080/"
        },
        "id": "pK6Zltc_npcs",
        "outputId": "c90f6b96-b92c-46cc-b360-62d469ab928d"
      },
      "outputs": [
        {
          "name": "stdout",
          "output_type": "stream",
          "text": [
            "['project', 'gutenberg', 's', 'the', 'adventures']\n",
            "of\n"
          ]
        }
      ],
      "source": [
        "WORD_LENGTH = 5\n",
        "prev_words = []\n",
        "next_words = []\n",
        "for i in range(len(words) - WORD_LENGTH):\n",
        "    prev_words.append(words[i:i + WORD_LENGTH])\n",
        "    next_words.append(words[i + WORD_LENGTH])\n",
        "print(prev_words[0])\n",
        "print(next_words[0])"
      ]
    },
    {
      "cell_type": "markdown",
      "metadata": {
        "id": "aOB1faLPoI6t"
      },
      "source": [
        "## 7. One-Hot encoding"
      ]
    },
    {
      "cell_type": "code",
      "execution_count": 7,
      "metadata": {
        "id": "p8YRZoeYnv90"
      },
      "outputs": [],
      "source": [
        "X = np.zeros((len(prev_words), WORD_LENGTH, len(unique_words)), dtype=bool)\n",
        "Y = np.zeros((len(next_words), len(unique_words)), dtype=bool)\n",
        "for i, each_words in enumerate(prev_words):\n",
        "    for j, each_word in enumerate(each_words):\n",
        "        X[i, j, unique_word_index[each_word]] = 1\n",
        "    Y[i, unique_word_index[next_words[i]]] = 1"
      ]
    },
    {
      "cell_type": "code",
      "execution_count": 8,
      "metadata": {
        "colab": {
          "base_uri": "https://localhost:8080/"
        },
        "id": "0RBAi60-6c-T",
        "outputId": "c0bd5039-2336-44d8-832e-190597e06a60"
      },
      "outputs": [
        {
          "name": "stdout",
          "output_type": "stream",
          "text": [
            "[False False False ... False False False]\n"
          ]
        }
      ],
      "source": [
        "print(X[0][0])"
      ]
    },
    {
      "cell_type": "markdown",
      "metadata": {
        "id": "gZi-KWj21qeA"
      },
      "source": [
        "## 8. Building the model"
      ]
    },
    {
      "cell_type": "code",
      "execution_count": 9,
      "metadata": {
        "id": "l5-JIxKg6gGB"
      },
      "outputs": [],
      "source": [
        "model = Sequential()\n",
        "model.add(LSTM(128, input_shape=(WORD_LENGTH, len(unique_words))))\n",
        "model.add(Dense(len(unique_words)))\n",
        "model.add(Activation('softmax'))"
      ]
    },
    {
      "cell_type": "markdown",
      "metadata": {
        "id": "Hbih64tU1zSA"
      },
      "source": [
        "## 9. Training"
      ]
    },
    {
      "cell_type": "code",
      "execution_count": 10,
      "metadata": {
        "colab": {
          "base_uri": "https://localhost:8080/"
        },
        "id": "VcVu1mWc6oop",
        "outputId": "a60d8325-6aef-4d37-91bf-40a6e41f10c7"
      },
      "outputs": [
        {
          "name": "stdout",
          "output_type": "stream",
          "text": [
            "Epoch 1/10\n"
          ]
        },
        {
          "name": "stderr",
          "output_type": "stream",
          "text": [
            "c:\\Users\\gl 65\\AppData\\Local\\Programs\\Python\\Python310\\lib\\site-packages\\keras\\optimizer_v2\\rmsprop.py:130: UserWarning: The `lr` argument is deprecated, use `learning_rate` instead.\n",
            "  super(RMSprop, self).__init__(name, **kwargs)\n"
          ]
        },
        {
          "name": "stdout",
          "output_type": "stream",
          "text": [
            "811/811 [==============================] - 106s 129ms/step - loss: 6.0156 - accuracy: 0.1066 - val_loss: 7.0609 - val_accuracy: 0.1014\n",
            "Epoch 2/10\n",
            "811/811 [==============================] - 104s 128ms/step - loss: 5.7871 - accuracy: 0.1474 - val_loss: 7.9896 - val_accuracy: 0.1084\n",
            "Epoch 3/10\n",
            "811/811 [==============================] - 110s 136ms/step - loss: 5.7401 - accuracy: 0.1748 - val_loss: 8.0856 - val_accuracy: 0.1108\n",
            "Epoch 4/10\n",
            "811/811 [==============================] - 101s 125ms/step - loss: 5.4223 - accuracy: 0.2090 - val_loss: 8.4036 - val_accuracy: 0.1056\n",
            "Epoch 5/10\n",
            "811/811 [==============================] - 104s 128ms/step - loss: 5.0980 - accuracy: 0.2490 - val_loss: 8.2817 - val_accuracy: 0.0950\n",
            "Epoch 6/10\n",
            "811/811 [==============================] - 108s 133ms/step - loss: 4.8117 - accuracy: 0.2898 - val_loss: 8.5252 - val_accuracy: 0.0923\n",
            "Epoch 7/10\n",
            "811/811 [==============================] - 107s 132ms/step - loss: 4.5620 - accuracy: 0.3332 - val_loss: 8.8064 - val_accuracy: 0.0859\n",
            "Epoch 8/10\n",
            "811/811 [==============================] - 107s 132ms/step - loss: 4.3394 - accuracy: 0.3727 - val_loss: 8.9149 - val_accuracy: 0.0833\n",
            "Epoch 9/10\n",
            "811/811 [==============================] - 114s 140ms/step - loss: 4.1544 - accuracy: 0.4096 - val_loss: 8.8972 - val_accuracy: 0.0771\n",
            "Epoch 10/10\n",
            "811/811 [==============================] - 105s 129ms/step - loss: 3.9890 - accuracy: 0.4420 - val_loss: 9.3005 - val_accuracy: 0.0782\n"
          ]
        }
      ],
      "source": [
        "optimizer = RMSprop(lr=0.01)\n",
        "model.compile(loss='categorical_crossentropy', optimizer=optimizer, metrics=['accuracy'])\n",
        "history = model.fit(X, Y, validation_split=0.05, batch_size=128, epochs=10, shuffle=True).history"
      ]
    },
    {
      "cell_type": "markdown",
      "metadata": {
        "id": "6YeaeLaH16i4"
      },
      "source": [
        "## 10. Saving the model and loading it back"
      ]
    },
    {
      "cell_type": "code",
      "execution_count": 11,
      "metadata": {
        "id": "aYOvKXRa9hYz"
      },
      "outputs": [],
      "source": [
        "model.save('keras_next_word_model.h5')\n",
        "pickle.dump(history, open(\"history.p\", \"wb\"))\n",
        "model = load_model('keras_next_word_model.h5')\n",
        "history = pickle.load(open(\"history.p\", \"rb\"))\n"
      ]
    },
    {
      "cell_type": "code",
      "execution_count": 12,
      "metadata": {
        "colab": {
          "base_uri": "https://localhost:8080/"
        },
        "id": "UfJ0V46f9q3L",
        "outputId": "22e7b36b-3350-4dce-ea86-5aeaa0948104"
      },
      "outputs": [
        {
          "data": {
            "text/plain": [
              "{'loss': [6.015601634979248,\n",
              "  5.787065505981445,\n",
              "  5.740082740783691,\n",
              "  5.422305107116699,\n",
              "  5.0980353355407715,\n",
              "  4.811747074127197,\n",
              "  4.5620222091674805,\n",
              "  4.339364528656006,\n",
              "  4.154418468475342,\n",
              "  3.9889659881591797],\n",
              " 'accuracy': [0.10659316182136536,\n",
              "  0.1473703533411026,\n",
              "  0.17479929327964783,\n",
              "  0.20895536243915558,\n",
              "  0.24904827773571014,\n",
              "  0.28980618715286255,\n",
              "  0.3332144618034363,\n",
              "  0.3727194666862488,\n",
              "  0.4096319377422333,\n",
              "  0.44195684790611267],\n",
              " 'val_loss': [7.060874938964844,\n",
              "  7.9895758628845215,\n",
              "  8.085610389709473,\n",
              "  8.403575897216797,\n",
              "  8.281734466552734,\n",
              "  8.525174140930176,\n",
              "  8.806364059448242,\n",
              "  8.9148530960083,\n",
              "  8.897171974182129,\n",
              "  9.300466537475586],\n",
              " 'val_accuracy': [0.10142804682254791,\n",
              "  0.10838520526885986,\n",
              "  0.11076528578996658,\n",
              "  0.10563895851373672,\n",
              "  0.09502013772726059,\n",
              "  0.09227389097213745,\n",
              "  0.08586598187685013,\n",
              "  0.0833028182387352,\n",
              "  0.07707799226045609,\n",
              "  0.07817649096250534]}"
            ]
          },
          "execution_count": 12,
          "metadata": {},
          "output_type": "execute_result"
        }
      ],
      "source": [
        "history"
      ]
    },
    {
      "cell_type": "markdown",
      "metadata": {
        "id": "fMJKNIhTGmXL"
      },
      "source": [
        "## 11. Evaluation"
      ]
    },
    {
      "cell_type": "code",
      "execution_count": 13,
      "metadata": {
        "colab": {
          "base_uri": "https://localhost:8080/",
          "height": 312
        },
        "id": "SEVdIzl1GnEM",
        "outputId": "81124997-58d8-4979-a693-873f54e50867"
      },
      "outputs": [
        {
          "data": {
            "text/plain": [
              "<matplotlib.legend.Legend at 0x1e43c18e680>"
            ]
          },
          "execution_count": 13,
          "metadata": {},
          "output_type": "execute_result"
        },
        {
          "data": {
            "image/png": "[encoded data removed]",
            "text/plain": [
              "<Figure size 432x288 with 1 Axes>"
            ]
          },
          "metadata": {
            "needs_background": "light"
          },
          "output_type": "display_data"
        }
      ],
      "source": [
        "plt.plot(history['accuracy'])\n",
        "plt.plot(history['val_accuracy'])\n",
        "plt.title('model accuracy')\n",
        "plt.ylabel('accuracy')\n",
        "plt.xlabel('epoch')\n",
        "plt.legend(['train', 'test'], loc='upper left')\n",
        "\n"
      ]
    },
    {
      "cell_type": "code",
      "execution_count": 14,
      "metadata": {
        "colab": {
          "base_uri": "https://localhost:8080/",
          "height": 312
        },
        "id": "TXQ5RIszGrjN",
        "outputId": "90b7b5e9-2b35-48f6-f93e-92a75c449fb5"
      },
      "outputs": [
        {
          "data": {
            "text/plain": [
              "<matplotlib.legend.Legend at 0x1e43c211b40>"
            ]
          },
          "execution_count": 14,
          "metadata": {},
          "output_type": "execute_result"
        },
        {
          "data": {
            "image/png": "[encoded data removed]",
            "text/plain": [
              "<Figure size 432x288 with 1 Axes>"
            ]
          },
          "metadata": {
            "needs_background": "light"
          },
          "output_type": "display_data"
        }
      ],
      "source": [
        "plt.plot(history['loss'])\n",
        "plt.plot(history['val_loss'])\n",
        "plt.title('model loss')\n",
        "plt.ylabel('loss')\n",
        "plt.xlabel('epoch')\n",
        "plt.legend(['train', 'test'], loc='upper left')"
      ]
    },
    {
      "cell_type": "markdown",
      "metadata": {
        "id": "YfDbac5X2J-p"
      },
      "source": [
        "## 12. Prediction"
      ]
    },
    {
      "cell_type": "code",
      "execution_count": 15,
      "metadata": {
        "colab": {
          "base_uri": "https://localhost:8080/"
        },
        "id": "dRlV91gG9xNY",
        "outputId": "b01c5541-6972-4038-a0f4-e140e29d2d5d"
      },
      "outputs": [
        {
          "name": "stdout",
          "output_type": "stream",
          "text": [
            "it\n",
            "is\n",
            "not\n",
            "a\n",
            "lack\n"
          ]
        },
        {
          "data": {
            "text/plain": [
              "array([[[0., 0., 0., ..., 0., 0., 0.],\n",
              "        [0., 0., 0., ..., 0., 0., 0.],\n",
              "        [0., 0., 0., ..., 0., 0., 0.],\n",
              "        [0., 0., 0., ..., 0., 0., 0.],\n",
              "        [0., 0., 0., ..., 0., 0., 0.]]])"
            ]
          },
          "execution_count": 15,
          "metadata": {},
          "output_type": "execute_result"
        }
      ],
      "source": [
        "def prepare_input(text):\n",
        "    x = np.zeros((1, WORD_LENGTH, len(unique_words)))\n",
        "    for t, word in enumerate(text.split()):\n",
        "        print(word)\n",
        "        x[0, t, unique_word_index[word]] = 1\n",
        "    return x\n",
        "prepare_input(\"It is not a lack\".lower())"
      ]
    },
    {
      "cell_type": "code",
      "execution_count": 16,
      "metadata": {
        "id": "ubFlLolN901L"
      },
      "outputs": [],
      "source": [
        "def sample(preds, top_n=3):\n",
        "    preds = np.asarray(preds).astype('float64')\n",
        "    preds = np.log(preds)\n",
        "    exp_preds = np.exp(preds)\n",
        "    preds = exp_preds / np.sum(exp_preds)\n",
        "\n",
        "    return heapq.nlargest(top_n, range(len(preds)), preds.take)"
      ]
    },
    {
      "cell_type": "code",
      "execution_count": 17,
      "metadata": {
        "id": "wAwhRARz95kp"
      },
      "outputs": [],
      "source": [
        "def predict_completions(text, n=3):\n",
        "    if text == \"\":\n",
        "        return(\"0\")\n",
        "    x = prepare_input(text)\n",
        "    preds = model.predict(x, verbose=0)[0]\n",
        "    next_indices = sample(preds, n)\n",
        "    return [unique_words[idx] for idx in next_indices]"
      ]
    },
    {
      "cell_type": "code",
      "execution_count": 18,
      "metadata": {
        "colab": {
          "base_uri": "https://localhost:8080/"
        },
        "id": "0A1soOh099tj",
        "outputId": "4ca6e9e6-4067-4464-9b36-28655eb37b35"
      },
      "outputs": [
        {
          "name": "stdout",
          "output_type": "stream",
          "text": [
            "correct sentence:  There is nothing more deceptive than an obvious fact\n",
            "Sequence:  there is nothing more deceptive\n",
            "there\n",
            "is\n",
            "nothing\n",
            "more\n",
            "deceptive\n",
            "next possible words:  ['than', 'until', 'very', 'first', 'which']\n"
          ]
        }
      ],
      "source": [
        "q =  \"There is nothing more deceptive than an obvious fact\"\n",
        "print(\"correct sentence: \",q)\n",
        "seq = \" \".join(tokenizer.tokenize(q.lower())[0:5])\n",
        "print(\"Sequence: \",seq)\n",
        "print(\"next possible words: \", predict_completions(seq, 5))\n"
      ]
    }
  ],
  "metadata": {
    "colab": {
      "name": "NextWordPrediction.ipynb",
      "provenance": []
    },
    "interpreter": {
      "hash": "21f05cd2c5047e7018214fb9a0928b0b4a5dd8839630994ca8c5c8078711a45e"
    },
    "kernelspec": {
      "display_name": "Python 3.10.4 64-bit",
      "language": "python",
      "name": "python3"
    },
    "language_info": {
      "codemirror_mode": {
        "name": "ipython",
        "version": 3
      },
      "file_extension": ".py",
      "mimetype": "text/x-python",
      "name": "python",
      "nbconvert_exporter": "python",
      "pygments_lexer": "ipython3",
      "version": "3.10.4"
    }
  },
  "nbformat": 4,
  "nbformat_minor": 0
}
